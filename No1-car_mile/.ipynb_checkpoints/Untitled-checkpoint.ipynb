{
 "cells": [
  {
   "cell_type": "code",
   "execution_count": 2,
   "metadata": {},
   "outputs": [
    {
     "name": "stdout",
     "output_type": "stream",
     "text": [
      "      id   mpg  cylinders  displacement horsepower  weight  acceleration  \\\n",
      "0      0  29.0          4         135.0      84.00  2525.0          16.0   \n",
      "1      3  31.9          4          89.0      71.00  1925.0          14.0   \n",
      "2      9  19.0          6         156.0      108.0  2930.0          15.5   \n",
      "3     11  28.0          4          90.0      75.00  2125.0          14.5   \n",
      "4     13  37.7          4          89.0      62.00  2050.0          17.3   \n",
      "5     16  27.0          4         151.0      90.00  2735.0          18.0   \n",
      "6     18  16.0          6         250.0      105.0  3897.0          18.5   \n",
      "7     19  11.0          8         350.0      180.0  3664.0          11.0   \n",
      "8     23  26.0          4         121.0      113.0  2234.0          12.5   \n",
      "9     24  18.2          8         318.0      135.0  3830.0          15.2   \n",
      "10    25  16.5          6         168.0      120.0  3820.0          16.7   \n",
      "11    28  30.9          4         105.0      75.00  2230.0          14.5   \n",
      "12    31  27.0          4          97.0      88.00  2130.0          14.5   \n",
      "13    32  14.0          8         350.0      165.0  4209.0          12.0   \n",
      "14    35  18.0          6         232.0      100.0  2945.0          16.0   \n",
      "15    36  26.0          4          96.0      69.00  2189.0          18.0   \n",
      "16    38  32.1          4          98.0      70.00  2120.0          15.5   \n",
      "17    39  24.5          4          98.0      60.00  2164.0          22.1   \n",
      "18    40  28.1          4         141.0      80.00  3230.0          20.4   \n",
      "19    41  32.7          6         168.0      132.0  2910.0          11.4   \n",
      "20    42  19.0          4         122.0      85.00  2310.0          18.5   \n",
      "21    43  15.0          8         302.0      130.0  4295.0          14.9   \n",
      "22    44  26.0          4         108.0      93.00  2391.0          15.5   \n",
      "23    47  17.0          8         305.0      130.0  3840.0          15.4   \n",
      "25    50  19.8          6         200.0      85.00  2990.0          18.2   \n",
      "26    53  13.0          8         400.0      175.0  5140.0          12.0   \n",
      "27    57  36.0          4         135.0      84.00  2370.0          13.0   \n",
      "28    58  17.0          6         250.0      100.0  3329.0          15.5   \n",
      "29    62  38.0          6         262.0      85.00  3015.0          17.0   \n",
      "30    67  31.5          4          98.0      68.00  2045.0          18.5   \n",
      "..   ...   ...        ...           ...        ...     ...           ...   \n",
      "168  337  28.0          4         140.0      90.00  2264.0          15.5   \n",
      "169  338  29.5          4          98.0      68.00  2135.0          16.6   \n",
      "170  339  14.0          8         440.0      215.0  4312.0           8.5   \n",
      "171  340  21.5          3          80.0      110.0  2720.0          13.5   \n",
      "172  343  32.8          4          78.0      52.00  1985.0          19.4   \n",
      "173  344  33.7          4         107.0      75.00  2210.0          14.4   \n",
      "174  345  15.0          8         390.0      190.0  3850.0           8.5   \n",
      "176  351  29.8          4         134.0      90.00  2711.0          15.5   \n",
      "177  353  23.9          8         260.0      90.00  3420.0          22.2   \n",
      "178  354  19.4          8         318.0      140.0  3735.0          13.2   \n",
      "179  355  25.1          4         140.0      88.00  2720.0          15.4   \n",
      "180  359  35.0          4          72.0      69.00  1613.0          18.0   \n",
      "181  360  21.5          6         231.0      115.0  3245.0          15.4   \n",
      "182  364  17.5          8         305.0      145.0  3880.0          12.5   \n",
      "183  366  17.7          6         231.0      165.0  3445.0          13.4   \n",
      "184  367  11.0          8         400.0      150.0  4997.0          14.0   \n",
      "185  368  18.0          6         232.0      100.0  3288.0          15.5   \n",
      "186  370  27.0          4         151.0      90.00  2950.0          17.3   \n",
      "187  373  15.0          8         318.0      150.0  4135.0          13.5   \n",
      "188  375  24.0          4         113.0      95.00  2278.0          15.5   \n",
      "189  377  36.0          4         105.0      74.00  1980.0          15.3   \n",
      "190  380  27.4          4         121.0      80.00  2670.0          15.0   \n",
      "191  381  18.0          6         199.0      97.00  2774.0          15.5   \n",
      "192  382  13.0          8         400.0      150.0  4464.0          12.0   \n",
      "193  383  19.0          6         232.0      100.0  2634.0          13.0   \n",
      "194  384  40.8          4          85.0      65.00  2110.0          19.2   \n",
      "195  385  20.2          8         302.0      139.0  3570.0          12.8   \n",
      "196  387  16.0          8         304.0      150.0  3433.0          12.0   \n",
      "197  395  43.4          4          90.0      48.00  2335.0          23.7   \n",
      "198  396  26.0          4          98.0      90.00  2265.0          15.5   \n",
      "\n",
      "     model year  origin                           car name  \n",
      "0            82       1                     dodge aries se  \n",
      "1            79       2                   vw rabbit custom  \n",
      "2            76       3                     toyota mark ii  \n",
      "3            74       1                         dodge colt  \n",
      "4            81       3                      toyota tercel  \n",
      "5            82       1                    pontiac phoenix  \n",
      "6            75       1          chevroelt chevelle malibu  \n",
      "7            73       1                   oldsmobile omega  \n",
      "8            70       2                           bmw 2002  \n",
      "9            79       1                    dodge st. regis  \n",
      "10           76       2                 mercedes-benz 280s  \n",
      "11           78       1                         dodge omni  \n",
      "12           70       3                       datsun pl510  \n",
      "13           71       1                   chevrolet impala  \n",
      "14           73       1                         amc hornet  \n",
      "15           72       2                    renault 12 (sw)  \n",
      "16           80       1                 chevrolet chevette  \n",
      "17           76       1                    chevrolet woody  \n",
      "18           81       2          peugeot 505s turbo diesel  \n",
      "19           80       3                      datsun 280-zx  \n",
      "20           73       1                         ford pinto  \n",
      "21           77       1            mercury cougar brougham  \n",
      "22           74       3                             subaru  \n",
      "23           79       1          chevrolet caprice classic  \n",
      "25           79       1                   mercury zephyr 6  \n",
      "26           71       1                pontiac safari (sw)  \n",
      "27           82       1                  dodge charger 2.2  \n",
      "28           71       1          chevrolet chevelle malibu  \n",
      "29           82       1  oldsmobile cutlass ciera (diesel)  \n",
      "30           77       3                  honda accord cvcc  \n",
      "..          ...     ...                                ...  \n",
      "168          71       1                chevrolet vega 2300  \n",
      "169          78       3                    honda accord lx  \n",
      "170          70       1                  plymouth fury iii  \n",
      "171          77       3                         mazda rx-4  \n",
      "172          78       3                   mazda glc deluxe  \n",
      "173          81       3                      honda prelude  \n",
      "174          70       1                 amc ambassador dpl  \n",
      "176          80       3             toyota corona liftback  \n",
      "177          79       1  oldsmobile cutlass salon brougham  \n",
      "178          78       1                     dodge diplomat  \n",
      "179          78       1                ford fairmont (man)  \n",
      "180          71       3                        datsun 1200  \n",
      "181          79       1                  pontiac lemans v6  \n",
      "182          77       1          chevrolet caprice classic  \n",
      "183          78       1    buick regal sport coupe (turbo)  \n",
      "184          73       1                   chevrolet impala  \n",
      "185          71       1                        amc matador  \n",
      "186          82       1                   chevrolet camaro  \n",
      "187          72       1                  plymouth fury iii  \n",
      "188          72       3              toyota corona hardtop  \n",
      "189          82       2                volkswagen rabbit l  \n",
      "190          79       1                      amc spirit dl  \n",
      "191          70       1                         amc hornet  \n",
      "192          73       1          chevrolet caprice classic  \n",
      "193          71       1                        amc gremlin  \n",
      "194          80       3                         datsun 210  \n",
      "195          78       1               mercury monarch ghia  \n",
      "196          70       1                      amc rebel sst  \n",
      "197          80       2                 vw dasher (diesel)  \n",
      "198          73       2               fiat 124 sport coupe  \n",
      "\n",
      "[195 rows x 10 columns]\n"
     ]
    }
   ],
   "source": [
    "import pandas as pd\n",
    "from pandas import DataFrame\n",
    "import numpy as np\n",
    "import seaborn as sns\n",
    "import matplotlib.pyplot as plt\n",
    "%matplotlib inline\n",
    "plt.style.use('ggplot') \n",
    "\n",
    "dataFrame= pd.read_table(\"train.tsv\", encoding='utf-8')\n",
    "dataFrame = dataFrame[dataFrame.horsepower != '?']\n",
    "print(dataFrame)"
   ]
  },
  {
   "cell_type": "code",
   "execution_count": 3,
   "metadata": {},
   "outputs": [
    {
     "data": {
      "text/plain": [
       "<seaborn.axisgrid.PairGrid at 0x1a168b1d30>"
      ]
     },
     "execution_count": 3,
     "metadata": {},
     "output_type": "execute_result"
    },
    {
     "data": {
      "image/png": "[encoded data removed]",
      "text/plain": [
       "<Figure size 1800x360 with 5 Axes>"
      ]
     },
     "metadata": {
      "needs_background": "light"
     },
     "output_type": "display_data"
    }
   ],
   "source": [
    "sns.pairplot(dataFrame, diag_kind='kde', height=5, markers=\"+\", x_vars=[\"cylinders\", \"displacement\", \"horsepower\", \"weight\", \"acceleration\"], y_vars=[\"mpg\"])"
   ]
  },
  {
   "cell_type": "code",
   "execution_count": 4,
   "metadata": {},
   "outputs": [
    {
     "name": "stderr",
     "output_type": "stream",
     "text": [
      "/anaconda3/lib/python3.7/site-packages/scipy/stats/stats.py:1713: FutureWarning: Using a non-tuple sequence for multidimensional indexing is deprecated; use `arr[tuple(seq)]` instead of `arr[seq]`. In the future this will be interpreted as an array index, `arr[np.array(seq)]`, which will result either in an error or a different result.\n",
      "  return np.add.reduce(sorted[indexer] * weights, axis=axis) / sumval\n"
     ]
    },
    {
     "data": {
      "text/plain": [
       "<seaborn.axisgrid.JointGrid at 0x1a17206588>"
      ]
     },
     "execution_count": 4,
     "metadata": {},
     "output_type": "execute_result"
    },
    {
     "data": {
      "image/png": "[encoded data removed]",
      "text/plain": [
       "<Figure size 432x432 with 3 Axes>"
      ]
     },
     "metadata": {
      "needs_background": "light"
     },
     "output_type": "display_data"
    }
   ],
   "source": [
    "sns.jointplot(x=\"mpg\", y=\"weight\", data=dataFrame, kind=\"reg\", color=\"purple\", ratio=5, \n",
    "              space=0.2, dropna=True, xlim=None, ylim=None)"
   ]
  },
  {
   "cell_type": "code",
   "execution_count": 5,
   "metadata": {},
   "outputs": [
    {
     "data": {
      "text/plain": [
       "<seaborn.axisgrid.JointGrid at 0x1a17b49978>"
      ]
     },
     "execution_count": 5,
     "metadata": {},
     "output_type": "execute_result"
    },
    {
     "data": {
      "image/png": "[encoded data removed]",
      "text/plain": [
       "<Figure size 432x432 with 3 Axes>"
      ]
     },
     "metadata": {
      "needs_background": "light"
     },
     "output_type": "display_data"
    }
   ],
   "source": [
    "sns.jointplot(x=\"mpg\", y=\"displacement\", data=dataFrame, kind=\"hex\", color=\"purple\", ratio=5, \n",
    "              space=0.2, dropna=True, xlim=None, ylim=None)"
   ]
  },
  {
   "cell_type": "code",
   "execution_count": 6,
   "metadata": {},
   "outputs": [
    {
     "data": {
      "text/plain": [
       "<seaborn.axisgrid.JointGrid at 0x1a17cc9438>"
      ]
     },
     "execution_count": 6,
     "metadata": {},
     "output_type": "execute_result"
    },
    {
     "data": {
      "image/png": "[encoded data removed]",
      "text/plain": [
       "<Figure size 432x432 with 3 Axes>"
      ]
     },
     "metadata": {
      "needs_background": "light"
     },
     "output_type": "display_data"
    }
   ],
   "source": [
    "sns.jointplot(x=\"mpg\", y=\"cylinders\", data=dataFrame, kind=\"reg\", color=\"purple\", ratio=5, \n",
    "              space=0.2, dropna=True, xlim=None, ylim=None)"
   ]
  },
  {
   "cell_type": "code",
   "execution_count": 7,
   "metadata": {},
   "outputs": [],
   "source": [
    "from sklearn.linear_model import LinearRegression\n",
    "linear_regression = LinearRegression()\n",
    "X = dataFrame.drop(\"mpg\", 1)\n",
    "X = X.drop(\"id\", 1)\n",
    "X = X.drop(\"car name\", 1)\n",
    "X = X.drop(\"origin\", 1)\n",
    "X = X.drop(\"model year\", 1)\n",
    "Y = dataFrame.mpg"
   ]
  },
  {
   "cell_type": "code",
   "execution_count": 8,
   "metadata": {},
   "outputs": [
    {
     "data": {
      "text/html": [
       "<div>\n",
       "<style scoped>\n",
       "    .dataframe tbody tr th:only-of-type {\n",
       "        vertical-align: middle;\n",
       "    }\n",
       "\n",
       "    .dataframe tbody tr th {\n",
       "        vertical-align: top;\n",
       "    }\n",
       "\n",
       "    .dataframe thead th {\n",
       "        text-align: right;\n",
       "    }\n",
       "</style>\n",
       "<table border=\"1\" class=\"dataframe\">\n",
       "  <thead>\n",
       "    <tr style=\"text-align: right;\">\n",
       "      <th></th>\n",
       "      <th>cylinders</th>\n",
       "      <th>displacement</th>\n",
       "      <th>horsepower</th>\n",
       "      <th>weight</th>\n",
       "      <th>acceleration</th>\n",
       "    </tr>\n",
       "  </thead>\n",
       "  <tbody>\n",
       "    <tr>\n",
       "      <th>0</th>\n",
       "      <td>4</td>\n",
       "      <td>135.0</td>\n",
       "      <td>84.00</td>\n",
       "      <td>2525.0</td>\n",
       "      <td>16.0</td>\n",
       "    </tr>\n",
       "    <tr>\n",
       "      <th>1</th>\n",
       "      <td>4</td>\n",
       "      <td>89.0</td>\n",
       "      <td>71.00</td>\n",
       "      <td>1925.0</td>\n",
       "      <td>14.0</td>\n",
       "    </tr>\n",
       "    <tr>\n",
       "      <th>2</th>\n",
       "      <td>6</td>\n",
       "      <td>156.0</td>\n",
       "      <td>108.0</td>\n",
       "      <td>2930.0</td>\n",
       "      <td>15.5</td>\n",
       "    </tr>\n",
       "    <tr>\n",
       "      <th>3</th>\n",
       "      <td>4</td>\n",
       "      <td>90.0</td>\n",
       "      <td>75.00</td>\n",
       "      <td>2125.0</td>\n",
       "      <td>14.5</td>\n",
       "    </tr>\n",
       "    <tr>\n",
       "      <th>4</th>\n",
       "      <td>4</td>\n",
       "      <td>89.0</td>\n",
       "      <td>62.00</td>\n",
       "      <td>2050.0</td>\n",
       "      <td>17.3</td>\n",
       "    </tr>\n",
       "    <tr>\n",
       "      <th>5</th>\n",
       "      <td>4</td>\n",
       "      <td>151.0</td>\n",
       "      <td>90.00</td>\n",
       "      <td>2735.0</td>\n",
       "      <td>18.0</td>\n",
       "    </tr>\n",
       "    <tr>\n",
       "      <th>6</th>\n",
       "      <td>6</td>\n",
       "      <td>250.0</td>\n",
       "      <td>105.0</td>\n",
       "      <td>3897.0</td>\n",
       "      <td>18.5</td>\n",
       "    </tr>\n",
       "    <tr>\n",
       "      <th>7</th>\n",
       "      <td>8</td>\n",
       "      <td>350.0</td>\n",
       "      <td>180.0</td>\n",
       "      <td>3664.0</td>\n",
       "      <td>11.0</td>\n",
       "    </tr>\n",
       "    <tr>\n",
       "      <th>8</th>\n",
       "      <td>4</td>\n",
       "      <td>121.0</td>\n",
       "      <td>113.0</td>\n",
       "      <td>2234.0</td>\n",
       "      <td>12.5</td>\n",
       "    </tr>\n",
       "    <tr>\n",
       "      <th>9</th>\n",
       "      <td>8</td>\n",
       "      <td>318.0</td>\n",
       "      <td>135.0</td>\n",
       "      <td>3830.0</td>\n",
       "      <td>15.2</td>\n",
       "    </tr>\n",
       "    <tr>\n",
       "      <th>10</th>\n",
       "      <td>6</td>\n",
       "      <td>168.0</td>\n",
       "      <td>120.0</td>\n",
       "      <td>3820.0</td>\n",
       "      <td>16.7</td>\n",
       "    </tr>\n",
       "    <tr>\n",
       "      <th>11</th>\n",
       "      <td>4</td>\n",
       "      <td>105.0</td>\n",
       "      <td>75.00</td>\n",
       "      <td>2230.0</td>\n",
       "      <td>14.5</td>\n",
       "    </tr>\n",
       "    <tr>\n",
       "      <th>12</th>\n",
       "      <td>4</td>\n",
       "      <td>97.0</td>\n",
       "      <td>88.00</td>\n",
       "      <td>2130.0</td>\n",
       "      <td>14.5</td>\n",
       "    </tr>\n",
       "    <tr>\n",
       "      <th>13</th>\n",
       "      <td>8</td>\n",
       "      <td>350.0</td>\n",
       "      <td>165.0</td>\n",
       "      <td>4209.0</td>\n",
       "      <td>12.0</td>\n",
       "    </tr>\n",
       "    <tr>\n",
       "      <th>14</th>\n",
       "      <td>6</td>\n",
       "      <td>232.0</td>\n",
       "      <td>100.0</td>\n",
       "      <td>2945.0</td>\n",
       "      <td>16.0</td>\n",
       "    </tr>\n",
       "    <tr>\n",
       "      <th>15</th>\n",
       "      <td>4</td>\n",
       "      <td>96.0</td>\n",
       "      <td>69.00</td>\n",
       "      <td>2189.0</td>\n",
       "      <td>18.0</td>\n",
       "    </tr>\n",
       "    <tr>\n",
       "      <th>16</th>\n",
       "      <td>4</td>\n",
       "      <td>98.0</td>\n",
       "      <td>70.00</td>\n",
       "      <td>2120.0</td>\n",
       "      <td>15.5</td>\n",
       "    </tr>\n",
       "    <tr>\n",
       "      <th>17</th>\n",
       "      <td>4</td>\n",
       "      <td>98.0</td>\n",
       "      <td>60.00</td>\n",
       "      <td>2164.0</td>\n",
       "      <td>22.1</td>\n",
       "    </tr>\n",
       "    <tr>\n",
       "      <th>18</th>\n",
       "      <td>4</td>\n",
       "      <td>141.0</td>\n",
       "      <td>80.00</td>\n",
       "      <td>3230.0</td>\n",
       "      <td>20.4</td>\n",
       "    </tr>\n",
       "    <tr>\n",
       "      <th>19</th>\n",
       "      <td>6</td>\n",
       "      <td>168.0</td>\n",
       "      <td>132.0</td>\n",
       "      <td>2910.0</td>\n",
       "      <td>11.4</td>\n",
       "    </tr>\n",
       "    <tr>\n",
       "      <th>20</th>\n",
       "      <td>4</td>\n",
       "      <td>122.0</td>\n",
       "      <td>85.00</td>\n",
       "      <td>2310.0</td>\n",
       "      <td>18.5</td>\n",
       "    </tr>\n",
       "    <tr>\n",
       "      <th>21</th>\n",
       "      <td>8</td>\n",
       "      <td>302.0</td>\n",
       "      <td>130.0</td>\n",
       "      <td>4295.0</td>\n",
       "      <td>14.9</td>\n",
       "    </tr>\n",
       "    <tr>\n",
       "      <th>22</th>\n",
       "      <td>4</td>\n",
       "      <td>108.0</td>\n",
       "      <td>93.00</td>\n",
       "      <td>2391.0</td>\n",
       "      <td>15.5</td>\n",
       "    </tr>\n",
       "    <tr>\n",
       "      <th>23</th>\n",
       "      <td>8</td>\n",
       "      <td>305.0</td>\n",
       "      <td>130.0</td>\n",
       "      <td>3840.0</td>\n",
       "      <td>15.4</td>\n",
       "    </tr>\n",
       "    <tr>\n",
       "      <th>25</th>\n",
       "      <td>6</td>\n",
       "      <td>200.0</td>\n",
       "      <td>85.00</td>\n",
       "      <td>2990.0</td>\n",
       "      <td>18.2</td>\n",
       "    </tr>\n",
       "    <tr>\n",
       "      <th>26</th>\n",
       "      <td>8</td>\n",
       "      <td>400.0</td>\n",
       "      <td>175.0</td>\n",
       "      <td>5140.0</td>\n",
       "      <td>12.0</td>\n",
       "    </tr>\n",
       "    <tr>\n",
       "      <th>27</th>\n",
       "      <td>4</td>\n",
       "      <td>135.0</td>\n",
       "      <td>84.00</td>\n",
       "      <td>2370.0</td>\n",
       "      <td>13.0</td>\n",
       "    </tr>\n",
       "    <tr>\n",
       "      <th>28</th>\n",
       "      <td>6</td>\n",
       "      <td>250.0</td>\n",
       "      <td>100.0</td>\n",
       "      <td>3329.0</td>\n",
       "      <td>15.5</td>\n",
       "    </tr>\n",
       "    <tr>\n",
       "      <th>29</th>\n",
       "      <td>6</td>\n",
       "      <td>262.0</td>\n",
       "      <td>85.00</td>\n",
       "      <td>3015.0</td>\n",
       "      <td>17.0</td>\n",
       "    </tr>\n",
       "    <tr>\n",
       "      <th>30</th>\n",
       "      <td>4</td>\n",
       "      <td>98.0</td>\n",
       "      <td>68.00</td>\n",
       "      <td>2045.0</td>\n",
       "      <td>18.5</td>\n",
       "    </tr>\n",
       "    <tr>\n",
       "      <th>...</th>\n",
       "      <td>...</td>\n",
       "      <td>...</td>\n",
       "      <td>...</td>\n",
       "      <td>...</td>\n",
       "      <td>...</td>\n",
       "    </tr>\n",
       "    <tr>\n",
       "      <th>168</th>\n",
       "      <td>4</td>\n",
       "      <td>140.0</td>\n",
       "      <td>90.00</td>\n",
       "      <td>2264.0</td>\n",
       "      <td>15.5</td>\n",
       "    </tr>\n",
       "    <tr>\n",
       "      <th>169</th>\n",
       "      <td>4</td>\n",
       "      <td>98.0</td>\n",
       "      <td>68.00</td>\n",
       "      <td>2135.0</td>\n",
       "      <td>16.6</td>\n",
       "    </tr>\n",
       "    <tr>\n",
       "      <th>170</th>\n",
       "      <td>8</td>\n",
       "      <td>440.0</td>\n",
       "      <td>215.0</td>\n",
       "      <td>4312.0</td>\n",
       "      <td>8.5</td>\n",
       "    </tr>\n",
       "    <tr>\n",
       "      <th>171</th>\n",
       "      <td>3</td>\n",
       "      <td>80.0</td>\n",
       "      <td>110.0</td>\n",
       "      <td>2720.0</td>\n",
       "      <td>13.5</td>\n",
       "    </tr>\n",
       "    <tr>\n",
       "      <th>172</th>\n",
       "      <td>4</td>\n",
       "      <td>78.0</td>\n",
       "      <td>52.00</td>\n",
       "      <td>1985.0</td>\n",
       "      <td>19.4</td>\n",
       "    </tr>\n",
       "    <tr>\n",
       "      <th>173</th>\n",
       "      <td>4</td>\n",
       "      <td>107.0</td>\n",
       "      <td>75.00</td>\n",
       "      <td>2210.0</td>\n",
       "      <td>14.4</td>\n",
       "    </tr>\n",
       "    <tr>\n",
       "      <th>174</th>\n",
       "      <td>8</td>\n",
       "      <td>390.0</td>\n",
       "      <td>190.0</td>\n",
       "      <td>3850.0</td>\n",
       "      <td>8.5</td>\n",
       "    </tr>\n",
       "    <tr>\n",
       "      <th>176</th>\n",
       "      <td>4</td>\n",
       "      <td>134.0</td>\n",
       "      <td>90.00</td>\n",
       "      <td>2711.0</td>\n",
       "      <td>15.5</td>\n",
       "    </tr>\n",
       "    <tr>\n",
       "      <th>177</th>\n",
       "      <td>8</td>\n",
       "      <td>260.0</td>\n",
       "      <td>90.00</td>\n",
       "      <td>3420.0</td>\n",
       "      <td>22.2</td>\n",
       "    </tr>\n",
       "    <tr>\n",
       "      <th>178</th>\n",
       "      <td>8</td>\n",
       "      <td>318.0</td>\n",
       "      <td>140.0</td>\n",
       "      <td>3735.0</td>\n",
       "      <td>13.2</td>\n",
       "    </tr>\n",
       "    <tr>\n",
       "      <th>179</th>\n",
       "      <td>4</td>\n",
       "      <td>140.0</td>\n",
       "      <td>88.00</td>\n",
       "      <td>2720.0</td>\n",
       "      <td>15.4</td>\n",
       "    </tr>\n",
       "    <tr>\n",
       "      <th>180</th>\n",
       "      <td>4</td>\n",
       "      <td>72.0</td>\n",
       "      <td>69.00</td>\n",
       "      <td>1613.0</td>\n",
       "      <td>18.0</td>\n",
       "    </tr>\n",
       "    <tr>\n",
       "      <th>181</th>\n",
       "      <td>6</td>\n",
       "      <td>231.0</td>\n",
       "      <td>115.0</td>\n",
       "      <td>3245.0</td>\n",
       "      <td>15.4</td>\n",
       "    </tr>\n",
       "    <tr>\n",
       "      <th>182</th>\n",
       "      <td>8</td>\n",
       "      <td>305.0</td>\n",
       "      <td>145.0</td>\n",
       "      <td>3880.0</td>\n",
       "      <td>12.5</td>\n",
       "    </tr>\n",
       "    <tr>\n",
       "      <th>183</th>\n",
       "      <td>6</td>\n",
       "      <td>231.0</td>\n",
       "      <td>165.0</td>\n",
       "      <td>3445.0</td>\n",
       "      <td>13.4</td>\n",
       "    </tr>\n",
       "    <tr>\n",
       "      <th>184</th>\n",
       "      <td>8</td>\n",
       "      <td>400.0</td>\n",
       "      <td>150.0</td>\n",
       "      <td>4997.0</td>\n",
       "      <td>14.0</td>\n",
       "    </tr>\n",
       "    <tr>\n",
       "      <th>185</th>\n",
       "      <td>6</td>\n",
       "      <td>232.0</td>\n",
       "      <td>100.0</td>\n",
       "      <td>3288.0</td>\n",
       "      <td>15.5</td>\n",
       "    </tr>\n",
       "    <tr>\n",
       "      <th>186</th>\n",
       "      <td>4</td>\n",
       "      <td>151.0</td>\n",
       "      <td>90.00</td>\n",
       "      <td>2950.0</td>\n",
       "      <td>17.3</td>\n",
       "    </tr>\n",
       "    <tr>\n",
       "      <th>187</th>\n",
       "      <td>8</td>\n",
       "      <td>318.0</td>\n",
       "      <td>150.0</td>\n",
       "      <td>4135.0</td>\n",
       "      <td>13.5</td>\n",
       "    </tr>\n",
       "    <tr>\n",
       "      <th>188</th>\n",
       "      <td>4</td>\n",
       "      <td>113.0</td>\n",
       "      <td>95.00</td>\n",
       "      <td>2278.0</td>\n",
       "      <td>15.5</td>\n",
       "    </tr>\n",
       "    <tr>\n",
       "      <th>189</th>\n",
       "      <td>4</td>\n",
       "      <td>105.0</td>\n",
       "      <td>74.00</td>\n",
       "      <td>1980.0</td>\n",
       "      <td>15.3</td>\n",
       "    </tr>\n",
       "    <tr>\n",
       "      <th>190</th>\n",
       "      <td>4</td>\n",
       "      <td>121.0</td>\n",
       "      <td>80.00</td>\n",
       "      <td>2670.0</td>\n",
       "      <td>15.0</td>\n",
       "    </tr>\n",
       "    <tr>\n",
       "      <th>191</th>\n",
       "      <td>6</td>\n",
       "      <td>199.0</td>\n",
       "      <td>97.00</td>\n",
       "      <td>2774.0</td>\n",
       "      <td>15.5</td>\n",
       "    </tr>\n",
       "    <tr>\n",
       "      <th>192</th>\n",
       "      <td>8</td>\n",
       "      <td>400.0</td>\n",
       "      <td>150.0</td>\n",
       "      <td>4464.0</td>\n",
       "      <td>12.0</td>\n",
       "    </tr>\n",
       "    <tr>\n",
       "      <th>193</th>\n",
       "      <td>6</td>\n",
       "      <td>232.0</td>\n",
       "      <td>100.0</td>\n",
       "      <td>2634.0</td>\n",
       "      <td>13.0</td>\n",
       "    </tr>\n",
       "    <tr>\n",
       "      <th>194</th>\n",
       "      <td>4</td>\n",
       "      <td>85.0</td>\n",
       "      <td>65.00</td>\n",
       "      <td>2110.0</td>\n",
       "      <td>19.2</td>\n",
       "    </tr>\n",
       "    <tr>\n",
       "      <th>195</th>\n",
       "      <td>8</td>\n",
       "      <td>302.0</td>\n",
       "      <td>139.0</td>\n",
       "      <td>3570.0</td>\n",
       "      <td>12.8</td>\n",
       "    </tr>\n",
       "    <tr>\n",
       "      <th>196</th>\n",
       "      <td>8</td>\n",
       "      <td>304.0</td>\n",
       "      <td>150.0</td>\n",
       "      <td>3433.0</td>\n",
       "      <td>12.0</td>\n",
       "    </tr>\n",
       "    <tr>\n",
       "      <th>197</th>\n",
       "      <td>4</td>\n",
       "      <td>90.0</td>\n",
       "      <td>48.00</td>\n",
       "      <td>2335.0</td>\n",
       "      <td>23.7</td>\n",
       "    </tr>\n",
       "    <tr>\n",
       "      <th>198</th>\n",
       "      <td>4</td>\n",
       "      <td>98.0</td>\n",
       "      <td>90.00</td>\n",
       "      <td>2265.0</td>\n",
       "      <td>15.5</td>\n",
       "    </tr>\n",
       "  </tbody>\n",
       "</table>\n",
       "<p>195 rows × 5 columns</p>\n",
       "</div>"
      ],
      "text/plain": [
       "     cylinders  displacement horsepower  weight  acceleration\n",
       "0            4         135.0      84.00  2525.0          16.0\n",
       "1            4          89.0      71.00  1925.0          14.0\n",
       "2            6         156.0      108.0  2930.0          15.5\n",
       "3            4          90.0      75.00  2125.0          14.5\n",
       "4            4          89.0      62.00  2050.0          17.3\n",
       "5            4         151.0      90.00  2735.0          18.0\n",
       "6            6         250.0      105.0  3897.0          18.5\n",
       "7            8         350.0      180.0  3664.0          11.0\n",
       "8            4         121.0      113.0  2234.0          12.5\n",
       "9            8         318.0      135.0  3830.0          15.2\n",
       "10           6         168.0      120.0  3820.0          16.7\n",
       "11           4         105.0      75.00  2230.0          14.5\n",
       "12           4          97.0      88.00  2130.0          14.5\n",
       "13           8         350.0      165.0  4209.0          12.0\n",
       "14           6         232.0      100.0  2945.0          16.0\n",
       "15           4          96.0      69.00  2189.0          18.0\n",
       "16           4          98.0      70.00  2120.0          15.5\n",
       "17           4          98.0      60.00  2164.0          22.1\n",
       "18           4         141.0      80.00  3230.0          20.4\n",
       "19           6         168.0      132.0  2910.0          11.4\n",
       "20           4         122.0      85.00  2310.0          18.5\n",
       "21           8         302.0      130.0  4295.0          14.9\n",
       "22           4         108.0      93.00  2391.0          15.5\n",
       "23           8         305.0      130.0  3840.0          15.4\n",
       "25           6         200.0      85.00  2990.0          18.2\n",
       "26           8         400.0      175.0  5140.0          12.0\n",
       "27           4         135.0      84.00  2370.0          13.0\n",
       "28           6         250.0      100.0  3329.0          15.5\n",
       "29           6         262.0      85.00  3015.0          17.0\n",
       "30           4          98.0      68.00  2045.0          18.5\n",
       "..         ...           ...        ...     ...           ...\n",
       "168          4         140.0      90.00  2264.0          15.5\n",
       "169          4          98.0      68.00  2135.0          16.6\n",
       "170          8         440.0      215.0  4312.0           8.5\n",
       "171          3          80.0      110.0  2720.0          13.5\n",
       "172          4          78.0      52.00  1985.0          19.4\n",
       "173          4         107.0      75.00  2210.0          14.4\n",
       "174          8         390.0      190.0  3850.0           8.5\n",
       "176          4         134.0      90.00  2711.0          15.5\n",
       "177          8         260.0      90.00  3420.0          22.2\n",
       "178          8         318.0      140.0  3735.0          13.2\n",
       "179          4         140.0      88.00  2720.0          15.4\n",
       "180          4          72.0      69.00  1613.0          18.0\n",
       "181          6         231.0      115.0  3245.0          15.4\n",
       "182          8         305.0      145.0  3880.0          12.5\n",
       "183          6         231.0      165.0  3445.0          13.4\n",
       "184          8         400.0      150.0  4997.0          14.0\n",
       "185          6         232.0      100.0  3288.0          15.5\n",
       "186          4         151.0      90.00  2950.0          17.3\n",
       "187          8         318.0      150.0  4135.0          13.5\n",
       "188          4         113.0      95.00  2278.0          15.5\n",
       "189          4         105.0      74.00  1980.0          15.3\n",
       "190          4         121.0      80.00  2670.0          15.0\n",
       "191          6         199.0      97.00  2774.0          15.5\n",
       "192          8         400.0      150.0  4464.0          12.0\n",
       "193          6         232.0      100.0  2634.0          13.0\n",
       "194          4          85.0      65.00  2110.0          19.2\n",
       "195          8         302.0      139.0  3570.0          12.8\n",
       "196          8         304.0      150.0  3433.0          12.0\n",
       "197          4          90.0      48.00  2335.0          23.7\n",
       "198          4          98.0      90.00  2265.0          15.5\n",
       "\n",
       "[195 rows x 5 columns]"
      ]
     },
     "execution_count": 8,
     "metadata": {},
     "output_type": "execute_result"
    }
   ],
   "source": [
    "X"
   ]
  },
  {
   "cell_type": "code",
   "execution_count": 9,
   "metadata": {},
   "outputs": [
    {
     "data": {
      "text/plain": [
       "LinearRegression(copy_X=True, fit_intercept=True, n_jobs=None,\n",
       "         normalize=False)"
      ]
     },
     "execution_count": 9,
     "metadata": {},
     "output_type": "execute_result"
    }
   ],
   "source": [
    "linear_regression.fit(X,Y)"
   ]
  },
  {
   "cell_type": "code",
   "execution_count": 10,
   "metadata": {},
   "outputs": [
    {
     "name": "stdout",
     "output_type": "stream",
     "text": [
      "[-0.08998248 -0.01354239 -0.0873942  -0.00320925 -0.33481136]\n"
     ]
    }
   ],
   "source": [
    "print(linear_regression.coef_)"
   ]
  },
  {
   "cell_type": "code",
   "execution_count": 12,
   "metadata": {},
   "outputs": [],
   "source": [
    "# columns = dataFrame.columns\n",
    "# activeColumns = []\n",
    "# for item in columns:\n",
    "#     if item == 'cylinders':\n",
    "#         activeColumns.append(item)\n",
    "#     if item == 'displacement':\n",
    "#         activeColumns.append(item)\n",
    "#     if item == 'horsepower':\n",
    "#         activeColumns.append(item)\n",
    "#     if item == 'weight':\n",
    "#         activeColumns.append(item)\n",
    "\n",
    "# coefficient['name'] = DataFrame(pd.Index(activeColumns))\n",
    "\n",
    "# coefficient"
   ]
  },
  {
   "cell_type": "code",
   "execution_count": 13,
   "metadata": {},
   "outputs": [
    {
     "data": {
      "text/plain": [
       "array([-0.08998248, -0.01354239, -0.0873942 , -0.00320925, -0.33481136])"
      ]
     },
     "execution_count": 13,
     "metadata": {},
     "output_type": "execute_result"
    }
   ],
   "source": [
    "linear_regression.coef_"
   ]
  },
  {
   "cell_type": "code",
   "execution_count": 14,
   "metadata": {},
   "outputs": [
    {
     "data": {
      "text/plain": [
       "50.5225282781512"
      ]
     },
     "execution_count": 14,
     "metadata": {},
     "output_type": "execute_result"
    }
   ],
   "source": [
    "linear_regression.intercept_"
   ]
  },
  {
   "cell_type": "code",
   "execution_count": 15,
   "metadata": {},
   "outputs": [],
   "source": [
    "import sklearn.model_selection\n",
    "X_train, X_test, Y_train, Y_test = sklearn.model_selection.train_test_split(X,Y)"
   ]
  },
  {
   "cell_type": "code",
   "execution_count": 16,
   "metadata": {},
   "outputs": [
    {
     "data": {
      "text/plain": [
       "(49, 5)"
      ]
     },
     "execution_count": 16,
     "metadata": {},
     "output_type": "execute_result"
    }
   ],
   "source": [
    "X_test.shape"
   ]
  },
  {
   "cell_type": "code",
   "execution_count": 17,
   "metadata": {},
   "outputs": [
    {
     "data": {
      "text/plain": [
       "(146, 5)"
      ]
     },
     "execution_count": 17,
     "metadata": {},
     "output_type": "execute_result"
    }
   ],
   "source": [
    "X_train.shape"
   ]
  },
  {
   "cell_type": "code",
   "execution_count": 18,
   "metadata": {},
   "outputs": [
    {
     "data": {
      "text/plain": [
       "(195, 5)"
      ]
     },
     "execution_count": 18,
     "metadata": {},
     "output_type": "execute_result"
    }
   ],
   "source": [
    "X.shape"
   ]
  },
  {
   "cell_type": "code",
   "execution_count": 19,
   "metadata": {},
   "outputs": [],
   "source": [
    "multi_lreg = LinearRegression()"
   ]
  },
  {
   "cell_type": "code",
   "execution_count": 20,
   "metadata": {},
   "outputs": [
    {
     "data": {
      "text/plain": [
       "LinearRegression(copy_X=True, fit_intercept=True, n_jobs=None,\n",
       "         normalize=False)"
      ]
     },
     "execution_count": 20,
     "metadata": {},
     "output_type": "execute_result"
    }
   ],
   "source": [
    "multi_lreg.fit(X_train, Y_train)"
   ]
  },
  {
   "cell_type": "code",
   "execution_count": 21,
   "metadata": {},
   "outputs": [
    {
     "name": "stdout",
     "output_type": "stream",
     "text": [
      "0.7004573533760073\n"
     ]
    }
   ],
   "source": [
    "print(multi_lreg.score(X_train,Y_train))"
   ]
  },
  {
   "cell_type": "code",
   "execution_count": 22,
   "metadata": {},
   "outputs": [
    {
     "name": "stdout",
     "output_type": "stream",
     "text": [
      "0.708965975627367\n"
     ]
    }
   ],
   "source": [
    "print(multi_lreg.score(X_test,Y_test))"
   ]
  },
  {
   "cell_type": "code",
   "execution_count": 23,
   "metadata": {},
   "outputs": [],
   "source": [
    "testFrame= pd.read_table(\"test.tsv\", encoding='utf-8')"
   ]
  },
  {
   "cell_type": "code",
   "execution_count": null,
   "metadata": {},
   "outputs": [],
   "source": [
    "a = linear_regression.coef_\n",
    "b = linear_regression.intercept_\n",
    "# print(testFrame['horsepower']*a[2])\n",
    "# print(float(raw_input(testFrame['horsepower'])*a[2])\n",
    "testFrame['mpg'] = testFrame['cylinders']*a[0] + testFrame['displacement']*a[1] + testFrame['horsepower']*a[2] + testFrame['weight']*a[3] + testFrame['acceleration']*a[4] + b\n",
    "# testFrame[['id', 'mpg']]\n",
    "# testFrame[['id', 'mpg']].to_csv('./submit.csv', header=False, index=False)"
   ]
  },
  {
   "cell_type": "code",
   "execution_count": null,
   "metadata": {},
   "outputs": [],
   "source": []
  }
 ],
 "metadata": {
  "kernelspec": {
   "display_name": "Python 3",
   "language": "python",
   "name": "python3"
  },
  "language_info": {
   "codemirror_mode": {
    "name": "ipython",
    "version": 3
   },
   "file_extension": ".py",
   "mimetype": "text/x-python",
   "name": "python",
   "nbconvert_exporter": "python",
   "pygments_lexer": "ipython3",
   "version": "3.7.1"
  }
 },
 "nbformat": 4,
 "nbformat_minor": 2
}
